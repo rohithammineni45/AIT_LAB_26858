{
  "nbformat": 4,
  "nbformat_minor": 0,
  "metadata": {
    "colab": {
      "provenance": [],
      "authorship_tag": "ABX9TyPckpfDhZMTXxJO62U7wsLM",
      "include_colab_link": true
    },
    "kernelspec": {
      "name": "python3",
      "display_name": "Python 3"
    },
    "language_info": {
      "name": "python"
    }
  },
  "cells": [
    {
      "cell_type": "markdown",
      "metadata": {
        "id": "view-in-github",
        "colab_type": "text"
      },
      "source": [
        "<a href=\"https://colab.research.google.com/github/rohithammineni45/AIT_LAB_26858/blob/main/TASK-2.ipynb\" target=\"_parent\"><img src=\"https://colab.research.google.com/assets/colab-badge.svg\" alt=\"Open In Colab\"/></a>"
      ]
    },
    {
      "cell_type": "code",
      "execution_count": 1,
      "metadata": {
        "colab": {
          "base_uri": "https://localhost:8080/"
        },
        "id": "OZRA38edUq-8",
        "outputId": "7a8e85ee-9ff3-421a-c86e-612e3d8ecb04"
      },
      "outputs": [
        {
          "output_type": "stream",
          "name": "stdout",
          "text": [
            "Reached local maximum. Cannot improve further.\n",
            "\n",
            "Path found:\n",
            "(0, 0)\n",
            "(0, 1)\n",
            "(0, 2)\n",
            "(1, 2)\n",
            "(2, 2)\n",
            "(2, 3)\n",
            "(2, 4)\n"
          ]
        }
      ],
      "source": [
        "import random\n",
        "\n",
        "# Sample 2D grid (5x6)\n",
        "warehouse = [\n",
        "    ['S', 'O', 'O', 'X', 'O', 'O'],\n",
        "    ['X', 'X', 'O', 'X', 'O', 'X'],\n",
        "    ['O', 'O', 'O', 'O', 'O', 'O'],\n",
        "    ['O', 'X', 'X', 'X', 'X', 'O'],\n",
        "    ['O', 'O', 'O', 'O', 'G', 'O']\n",
        "]\n",
        "\n",
        "# Find position of a character in grid\n",
        "def find_position(grid, char):\n",
        "    for i in range(len(grid)):\n",
        "        for j in range(len(grid[0])):\n",
        "            if grid[i][j] == char:\n",
        "                return (i, j)\n",
        "\n",
        "start = find_position(warehouse, 'S')\n",
        "goal = find_position(warehouse, 'G')\n",
        "\n",
        "# Manhattan distance heuristic\n",
        "def heuristic(pos, goal):\n",
        "    return abs(pos[0] - goal[0]) + abs(pos[1] - goal[1])\n",
        "\n",
        "# Get valid neighbors (up, down, left, right)\n",
        "def get_neighbors(grid, position):\n",
        "    x, y = position\n",
        "    moves = [(-1, 0), (1, 0), (0, -1), (0, 1)]\n",
        "    neighbors = []\n",
        "    for dx, dy in moves:\n",
        "        nx, ny = x + dx, y + dy\n",
        "        if 0 <= nx < len(grid) and 0 <= ny < len(grid[0]):\n",
        "            if grid[nx][ny] in ['O', 'G']:  # Open or Goal\n",
        "                neighbors.append((nx, ny))\n",
        "    return neighbors\n",
        "\n",
        "# Hill Climbing Algorithm\n",
        "def hill_climbing(grid, start, goal):\n",
        "    current = start\n",
        "    path = [current]\n",
        "\n",
        "    while current != goal:\n",
        "        neighbors = get_neighbors(grid, current)\n",
        "\n",
        "        if not neighbors:\n",
        "            print(\"Stuck at local maximum. No path to goal.\")\n",
        "            return path\n",
        "\n",
        "        # Choose the neighbor with the lowest heuristic value\n",
        "        next_move = min(neighbors, key=lambda n: heuristic(n, goal))\n",
        "\n",
        "        # If next move is not better, stop (local maximum)\n",
        "        if heuristic(next_move, goal) >= heuristic(current, goal):\n",
        "            print(\"Reached local maximum. Cannot improve further.\")\n",
        "            return path\n",
        "\n",
        "        current = next_move\n",
        "        path.append(current)\n",
        "\n",
        "    return path\n",
        "\n",
        "# Run the algorithm\n",
        "path = hill_climbing(warehouse, start, goal)\n",
        "\n",
        "# Print path\n",
        "print(\"\\nPath found:\")\n",
        "for step in path:\n",
        "    print(step)\n"
      ]
    }
  ]
}