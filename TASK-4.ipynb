{
  "nbformat": 4,
  "nbformat_minor": 0,
  "metadata": {
    "colab": {
      "provenance": [],
      "authorship_tag": "ABX9TyO2x7gnh1TUlcml6iZbdFdK",
      "include_colab_link": true
    },
    "kernelspec": {
      "name": "python3",
      "display_name": "Python 3"
    },
    "language_info": {
      "name": "python"
    }
  },
  "cells": [
    {
      "cell_type": "markdown",
      "metadata": {
        "id": "view-in-github",
        "colab_type": "text"
      },
      "source": [
        "<a href=\"https://colab.research.google.com/github/rohithammineni45/AIT_LAB_26858/blob/main/TASK-4.ipynb\" target=\"_parent\"><img src=\"https://colab.research.google.com/assets/colab-badge.svg\" alt=\"Open In Colab\"/></a>"
      ]
    },
    {
      "cell_type": "code",
      "execution_count": 1,
      "metadata": {
        "colab": {
          "base_uri": "https://localhost:8080/"
        },
        "id": "lXg5EIjWCxEX",
        "outputId": "78fcb65c-cfcc-41af-894b-1bddc798c14f"
      },
      "outputs": [
        {
          "output_type": "stream",
          "name": "stdout",
          "text": [
            "Current Board:\n",
            "['X', 'O', 'X']\n",
            "['_', 'O', '_']\n",
            "['_', '_', '_']\n",
            "\n",
            "AI recommends move at position: (2, 1)\n"
          ]
        }
      ],
      "source": [
        "def print_board(board):\n",
        "    for row in board:\n",
        "        print(row)\n",
        "    print()\n",
        "\n",
        "def check_winner(board):\n",
        "    for i in range(3):\n",
        "        # Check rows\n",
        "        if board[i][0] == board[i][1] == board[i][2] != '_':\n",
        "            return board[i][0]\n",
        "        # Check columns\n",
        "        if board[0][i] == board[1][i] == board[2][i] != '_':\n",
        "            return board[0][i]\n",
        "    # Check diagonals\n",
        "    if board[0][0] == board[1][1] == board[2][2] != '_':\n",
        "        return board[0][0]\n",
        "    if board[0][2] == board[1][1] == board[2][0] != '_':\n",
        "        return board[0][2]\n",
        "    return None\n",
        "\n",
        "def is_full(board):\n",
        "    return all(cell != '_' for row in board for cell in row)\n",
        "\n",
        "def minimax(board, is_maximizing):\n",
        "    winner = check_winner(board)\n",
        "    if winner == 'X':\n",
        "        return 1\n",
        "    elif winner == 'O':\n",
        "        return -1\n",
        "    elif is_full(board):\n",
        "        return 0\n",
        "\n",
        "    if is_maximizing:\n",
        "        best_score = -float('inf')\n",
        "        for i in range(3):\n",
        "            for j in range(3):\n",
        "                if board[i][j] == '_':\n",
        "                    board[i][j] = 'X'\n",
        "                    score = minimax(board, False)\n",
        "                    board[i][j] = '_'\n",
        "                    best_score = max(score, best_score)\n",
        "        return best_score\n",
        "    else:\n",
        "        best_score = float('inf')\n",
        "        for i in range(3):\n",
        "            for j in range(3):\n",
        "                if board[i][j] == '_':\n",
        "                    board[i][j] = 'O'\n",
        "                    score = minimax(board, True)\n",
        "                    board[i][j] = '_'\n",
        "                    best_score = min(score, best_score)\n",
        "        return best_score\n",
        "\n",
        "def best_move(board):\n",
        "    best_score = -float('inf')\n",
        "    move = None\n",
        "    for i in range(3):\n",
        "        for j in range(3):\n",
        "            if board[i][j] == '_':\n",
        "                board[i][j] = 'X'\n",
        "                score = minimax(board, False)\n",
        "                board[i][j] = '_'\n",
        "                if score > best_score:\n",
        "                    best_score = score\n",
        "                    move = (i, j)\n",
        "    return move\n",
        "\n",
        "# Sample input\n",
        "board = [\n",
        "    ['X', 'O', 'X'],\n",
        "    ['_', 'O', '_'],\n",
        "    ['_', '_', '_']\n",
        "]\n",
        "\n",
        "print(\"Current Board:\")\n",
        "print_board(board)\n",
        "\n",
        "move = best_move(board)\n",
        "print(f\"AI recommends move at position: {move}\")\n"
      ]
    }
  ]
}