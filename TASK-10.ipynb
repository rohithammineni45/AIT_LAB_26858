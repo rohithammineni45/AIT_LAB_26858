{
  "nbformat": 4,
  "nbformat_minor": 0,
  "metadata": {
    "colab": {
      "provenance": [],
      "authorship_tag": "ABX9TyN6XxDQ4jLVorKkw47UGyw5",
      "include_colab_link": true
    },
    "kernelspec": {
      "name": "python3",
      "display_name": "Python 3"
    },
    "language_info": {
      "name": "python"
    }
  },
  "cells": [
    {
      "cell_type": "markdown",
      "metadata": {
        "id": "view-in-github",
        "colab_type": "text"
      },
      "source": [
        "<a href=\"https://colab.research.google.com/github/rohithammineni45/AIT_LAB_26858/blob/main/TASK-10.ipynb\" target=\"_parent\"><img src=\"https://colab.research.google.com/assets/colab-badge.svg\" alt=\"Open In Colab\"/></a>"
      ]
    },
    {
      "cell_type": "code",
      "execution_count": 2,
      "metadata": {
        "colab": {
          "base_uri": "https://localhost:8080/"
        },
        "id": "cqRd_IU3_t8R",
        "outputId": "b70a2c2a-48ae-48be-8c4b-759ada6485f3"
      },
      "outputs": [
        {
          "output_type": "stream",
          "name": "stdout",
          "text": [
            "Query: Is Seema a girl?\n",
            "Answer: Yes\n",
            "\n",
            "Query: Does Bill like someone?\n",
            "Answer: Yes, Bill likes Cindy\n",
            "\n",
            "Query: What color is Rose?\n",
            "Answer: Rose is Red\n"
          ]
        }
      ],
      "source": [
        "# Simple Knowledge Base using dictionaries\n",
        "\n",
        "# Knowledge Base: Each key is a predicate with subject-object pairs\n",
        "knowledge_base = {\n",
        "    'likes': {\n",
        "        'Ram': 'Mango',\n",
        "        'Bill': 'Cindy'\n",
        "    },\n",
        "    'is_a': {\n",
        "        'Seema': 'Girl'\n",
        "    },\n",
        "    'color': {\n",
        "        'Rose': 'Red'\n",
        "    },\n",
        "    'owns': {\n",
        "        'John': 'Gold'\n",
        "    }\n",
        "}\n",
        "\n",
        "# Query 1: Is Seema a girl?\n",
        "def is_seema_a_girl():\n",
        "    return knowledge_base['is_a'].get('Seema') == 'Girl'\n",
        "\n",
        "# Query 2: Does Bill like someone?\n",
        "def who_does_bill_like():\n",
        "    return knowledge_base['likes'].get('Bill', None)\n",
        "\n",
        "# Query 3: What color is Rose?\n",
        "def color_of_rose():\n",
        "    return knowledge_base['color'].get('Rose', None)\n",
        "\n",
        "# Run the queries\n",
        "print(\"Query: Is Seema a girl?\")\n",
        "print(\"Answer:\", \"Yes\" if is_seema_a_girl() else \"No\")\n",
        "\n",
        "print(\"\\nQuery: Does Bill like someone?\")\n",
        "bill_likes = who_does_bill_like()\n",
        "print(\"Answer:\", f\"Yes, Bill likes {bill_likes}\" if bill_likes else \"No\")\n",
        "\n",
        "print(\"\\nQuery: What color is Rose?\")\n",
        "rose_color = color_of_rose()\n",
        "print(\"Answer:\", f\"Rose is {rose_color}\" if rose_color else \"Unknown\")\n"
      ]
    },
    {
      "cell_type": "markdown",
      "source": [
        "TASK-10"
      ],
      "metadata": {
        "id": "ZxKewpLXBlkO"
      }
    }
  ]
}