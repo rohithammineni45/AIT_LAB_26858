{
  "nbformat": 4,
  "nbformat_minor": 0,
  "metadata": {
    "colab": {
      "provenance": [],
      "authorship_tag": "ABX9TyOtbh+7WU1l2Ezaa73JxfWS",
      "include_colab_link": true
    },
    "kernelspec": {
      "name": "python3",
      "display_name": "Python 3"
    },
    "language_info": {
      "name": "python"
    }
  },
  "cells": [
    {
      "cell_type": "markdown",
      "metadata": {
        "id": "view-in-github",
        "colab_type": "text"
      },
      "source": [
        "<a href=\"https://colab.research.google.com/github/rohithammineni45/AIT_LAB_26858/blob/main/Untitled4.ipynb\" target=\"_parent\"><img src=\"https://colab.research.google.com/assets/colab-badge.svg\" alt=\"Open In Colab\"/></a>"
      ]
    },
    {
      "cell_type": "code",
      "source": [
        "from collections import deque\n",
        "\n",
        "def bfs_shortest_path(graph, start, goal):\n",
        "    visited = set()\n",
        "    queue = deque([[start]])\n",
        "\n",
        "    if start == goal:\n",
        "        return [start]\n",
        "\n",
        "    while queue:\n",
        "        path = queue.popleft()\n",
        "        node = path[-1]\n",
        "\n",
        "        if node not in visited:\n",
        "            for neighbor in graph[node]:\n",
        "                new_path = list(path)\n",
        "                new_path.append(neighbor)\n",
        "                queue.append(new_path)\n",
        "\n",
        "                if neighbor == goal:\n",
        "                    return new_path\n",
        "\n",
        "            visited.add(node)\n",
        "\n",
        "    return None\n",
        "\n",
        "city_graph = {\n",
        "    'A': ['B','C'],\n",
        "    'B': ['A','D','E'],\n",
        "    'C': ['A','F'],\n",
        "    'D': ['B'],\n",
        "    'E': ['B','F'],\n",
        "    'F': ['C','E']\n",
        "}\n",
        "\n",
        "start = 'A'\n",
        "goal = 'F'\n",
        "shortest_path = bfs_shortest_path(city_graph, start, goal)\n",
        "print(\"Shortest path from\", start, \"to\", goal, \"is:\", shortest_path)\n"
      ],
      "metadata": {
        "colab": {
          "base_uri": "https://localhost:8080/"
        },
        "id": "NmBJaElXNRV6",
        "outputId": "3aa7b101-3762-4eaa-8a25-27db2cfe1894"
      },
      "execution_count": 4,
      "outputs": [
        {
          "output_type": "stream",
          "name": "stdout",
          "text": [
            "Shortest path from A to F is: ['A', 'C', 'F']\n"
          ]
        }
      ]
    },
    {
      "cell_type": "markdown",
      "source": [
        "TASK-1"
      ],
      "metadata": {
        "id": "318PZdfjPWIs"
      }
    }
  ]
}