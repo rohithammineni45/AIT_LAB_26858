{
  "nbformat": 4,
  "nbformat_minor": 0,
  "metadata": {
    "colab": {
      "provenance": [],
      "authorship_tag": "ABX9TyO3oVrUDhVYQxUwomkWp7NU",
      "include_colab_link": true
    },
    "kernelspec": {
      "name": "python3",
      "display_name": "Python 3"
    },
    "language_info": {
      "name": "python"
    }
  },
  "cells": [
    {
      "cell_type": "markdown",
      "metadata": {
        "id": "view-in-github",
        "colab_type": "text"
      },
      "source": [
        "<a href=\"https://colab.research.google.com/github/rohithammineni45/AIT_LAB_26858/blob/main/TASK-1%2CDFS.ipynb\" target=\"_parent\"><img src=\"https://colab.research.google.com/assets/colab-badge.svg\" alt=\"Open In Colab\"/></a>"
      ]
    },
    {
      "cell_type": "code",
      "execution_count": 1,
      "metadata": {
        "colab": {
          "base_uri": "https://localhost:8080/"
        },
        "id": "i-YZMWA7USd3",
        "outputId": "5ca3cbf7-a7fb-4357-9c11-2595b7b4cce3"
      },
      "outputs": [
        {
          "output_type": "stream",
          "name": "stdout",
          "text": [
            "\n",
            "Path to hotspot: [(0, 0), (0, 1), (1, 1), (2, 1), (2, 2), (2, 3)]\n"
          ]
        }
      ],
      "source": [
        "def dfs_forest(grid, x, y, visited, path):\n",
        "    rows, cols = len(grid), len(grid[0])\n",
        "\n",
        "    # Boundary + obstacle + visited check\n",
        "    if x < 0 or y < 0 or x >= rows or y >= cols or grid[x][y] == 'X' or visited[x][y]:\n",
        "        return False\n",
        "\n",
        "    path.append((x, y))\n",
        "    visited[x][y] = True\n",
        "\n",
        "    # Found hotspot\n",
        "    if grid[x][y] == 'H':\n",
        "        return True\n",
        "\n",
        "    # Explore neighbors (up, down, left, right)\n",
        "    for dx, dy in [(-1,0),(1,0),(0,-1),(0,1)]:\n",
        "        if dfs_forest(grid, x+dx, y+dy, visited, path):\n",
        "            return True\n",
        "\n",
        "    # Backtrack\n",
        "    path.pop()\n",
        "    return False\n",
        "\n",
        "forest = [\n",
        "    ['S','O','X','O'],\n",
        "    ['X','O','X','O'],\n",
        "    ['O','O','O','H'],\n",
        "    ['X','X','O','X']\n",
        "]\n",
        "\n",
        "rows, cols = len(forest), len(forest[0])\n",
        "visited = [[False for _ in range(cols)] for _ in range(rows)]\n",
        "path = []\n",
        "\n",
        "# Find start position 'S'\n",
        "for i in range(rows):\n",
        "    for j in range(cols):\n",
        "        if forest[i][j] == 'S':\n",
        "            start_x, start_y = i, j\n",
        "\n",
        "# Run DFS\n",
        "found = dfs_forest(forest, start_x, start_y, visited, path)\n",
        "\n",
        "if found:\n",
        "    print(\"\\nPath to hotspot:\", path)\n",
        "else:\n",
        "    print(\"No hotspot found\")"
      ]
    },
    {
      "cell_type": "markdown",
      "source": [
        "TASK-1: DFS"
      ],
      "metadata": {
        "id": "EF2q1_S6UVt4"
      }
    }
  ]
}