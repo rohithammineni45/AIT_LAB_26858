{
  "nbformat": 4,
  "nbformat_minor": 0,
  "metadata": {
    "colab": {
      "provenance": [],
      "authorship_tag": "ABX9TyOLzas2ue0hxrjR3R1Wr/Wr",
      "include_colab_link": true
    },
    "kernelspec": {
      "name": "python3",
      "display_name": "Python 3"
    },
    "language_info": {
      "name": "python"
    }
  },
  "cells": [
    {
      "cell_type": "markdown",
      "metadata": {
        "id": "view-in-github",
        "colab_type": "text"
      },
      "source": [
        "<a href=\"https://colab.research.google.com/github/rohithammineni45/AIT_LAB_26858/blob/main/TASK-3.ipynb\" target=\"_parent\"><img src=\"https://colab.research.google.com/assets/colab-badge.svg\" alt=\"Open In Colab\"/></a>"
      ]
    },
    {
      "cell_type": "code",
      "execution_count": 2,
      "metadata": {
        "colab": {
          "base_uri": "https://localhost:8080/"
        },
        "id": "dSGlC-2NVhas",
        "outputId": "09018e3e-f12d-49c1-87f9-acded0e13be7"
      },
      "outputs": [
        {
          "output_type": "stream",
          "name": "stdout",
          "text": [
            "Optimal Path: [(0, 0), (1, 0), (1, 1), (2, 1), (2, 2)]\n",
            "Total Cost: 6\n"
          ]
        }
      ],
      "source": [
        "import heapq\n",
        "\n",
        "# Manhattan distance heuristic\n",
        "def manhattan_distance(a, b):\n",
        "    return abs(a[0] - b[0]) + abs(a[1] - b[1])\n",
        "\n",
        "def a_star_search(start, goal, graph):\n",
        "    open_list = []\n",
        "    heapq.heappush(open_list, (0, start))  # (f_score, node)\n",
        "\n",
        "    came_from = {}\n",
        "    g_score = {node: float('inf') for node in graph}\n",
        "    g_score[start] = 0\n",
        "\n",
        "    f_score = {node: float('inf') for node in graph}\n",
        "    f_score[start] = manhattan_distance(start, goal)\n",
        "\n",
        "    while open_list:\n",
        "        current_f, current = heapq.heappop(open_list)\n",
        "\n",
        "        if current == goal:\n",
        "            # reconstruct path\n",
        "            path = []\n",
        "            total_cost = g_score[goal]\n",
        "            while current in came_from:\n",
        "                path.append(current)\n",
        "                current = came_from[current]\n",
        "            path.append(start)\n",
        "            path.reverse()\n",
        "            return path, total_cost\n",
        "\n",
        "        for neighbor, cost in graph[current]:\n",
        "            tentative_g = g_score[current] + cost\n",
        "            if tentative_g < g_score[neighbor]:\n",
        "                came_from[neighbor] = current\n",
        "                g_score[neighbor] = tentative_g\n",
        "                f_score[neighbor] = tentative_g + manhattan_distance(neighbor, goal)\n",
        "                heapq.heappush(open_list, (f_score[neighbor], neighbor))\n",
        "\n",
        "    return None, float('inf')\n",
        "\n",
        "graph = {\n",
        "    (0, 0): [((1, 0), 1), ((0, 1), 4)],\n",
        "    (1, 0): [((0, 0), 1), ((1, 1), 2)],\n",
        "    (0, 1): [((0, 0), 4), ((1, 1), 3)],\n",
        "    (1, 1): [((1, 0), 2), ((0, 1), 3), ((2, 1), 1)],\n",
        "    (2, 1): [((1, 1), 1), ((2, 2), 2)],\n",
        "    (2, 2): [((2, 1), 2)]\n",
        "}\n",
        "\n",
        "start = (0, 0)\n",
        "goal = (2, 2)\n",
        "\n",
        "path, cost = a_star_search(start, goal, graph)\n",
        "print(\"Optimal Path:\", path)\n",
        "print(\"Total Cost:\", cost)\n"
      ]
    },
    {
      "cell_type": "markdown",
      "source": [
        "TASK-3"
      ],
      "metadata": {
        "id": "Nj8fnJ7fV7hA"
      }
    }
  ]
}